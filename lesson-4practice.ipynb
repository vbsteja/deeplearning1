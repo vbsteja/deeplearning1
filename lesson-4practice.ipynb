{
 "cells": [
  {
   "cell_type": "code",
   "execution_count": 9,
   "metadata": {},
   "outputs": [],
   "source": [
    "\n",
    "%matplotlib inline\n",
    "import utils; reload(utils)\n",
    "from utils import *\n",
    "from __future__ import division, print_function"
   ]
  },
  {
   "cell_type": "code",
   "execution_count": 100,
   "metadata": {
    "collapsed": true
   },
   "outputs": [],
   "source": [
    "from sklearn.decomposition import PCA"
   ]
  },
  {
   "cell_type": "code",
   "execution_count": 6,
   "metadata": {},
   "outputs": [],
   "source": [
    "import os\n",
    "os.getcwd()\n",
    "path = \"data/ml-latest-small/\"\n",
    "model_path = path+\"model/\"\n",
    "if not os.path.exists(model_path): os.mkdir(model_path)\n",
    "batch_size = 64"
   ]
  },
  {
   "cell_type": "markdown",
   "metadata": {},
   "source": [
    "### setup data"
   ]
  },
  {
   "cell_type": "code",
   "execution_count": 10,
   "metadata": {
    "collapsed": true
   },
   "outputs": [],
   "source": [
    "movie_ratings = pd.read_csv(path+\"ratings.csv\")"
   ]
  },
  {
   "cell_type": "code",
   "execution_count": 11,
   "metadata": {},
   "outputs": [
    {
     "data": {
      "text/html": [
       "<div>\n",
       "<style>\n",
       "    .dataframe thead tr:only-child th {\n",
       "        text-align: right;\n",
       "    }\n",
       "\n",
       "    .dataframe thead th {\n",
       "        text-align: left;\n",
       "    }\n",
       "\n",
       "    .dataframe tbody tr th {\n",
       "        vertical-align: top;\n",
       "    }\n",
       "</style>\n",
       "<table border=\"1\" class=\"dataframe\">\n",
       "  <thead>\n",
       "    <tr style=\"text-align: right;\">\n",
       "      <th></th>\n",
       "      <th>userId</th>\n",
       "      <th>movieId</th>\n",
       "      <th>rating</th>\n",
       "      <th>timestamp</th>\n",
       "    </tr>\n",
       "  </thead>\n",
       "  <tbody>\n",
       "    <tr>\n",
       "      <th>0</th>\n",
       "      <td>1</td>\n",
       "      <td>31</td>\n",
       "      <td>2.5</td>\n",
       "      <td>1260759144</td>\n",
       "    </tr>\n",
       "    <tr>\n",
       "      <th>1</th>\n",
       "      <td>1</td>\n",
       "      <td>1029</td>\n",
       "      <td>3.0</td>\n",
       "      <td>1260759179</td>\n",
       "    </tr>\n",
       "    <tr>\n",
       "      <th>2</th>\n",
       "      <td>1</td>\n",
       "      <td>1061</td>\n",
       "      <td>3.0</td>\n",
       "      <td>1260759182</td>\n",
       "    </tr>\n",
       "    <tr>\n",
       "      <th>3</th>\n",
       "      <td>1</td>\n",
       "      <td>1129</td>\n",
       "      <td>2.0</td>\n",
       "      <td>1260759185</td>\n",
       "    </tr>\n",
       "    <tr>\n",
       "      <th>4</th>\n",
       "      <td>1</td>\n",
       "      <td>1172</td>\n",
       "      <td>4.0</td>\n",
       "      <td>1260759205</td>\n",
       "    </tr>\n",
       "  </tbody>\n",
       "</table>\n",
       "</div>"
      ],
      "text/plain": [
       "   userId  movieId  rating   timestamp\n",
       "0       1       31     2.5  1260759144\n",
       "1       1     1029     3.0  1260759179\n",
       "2       1     1061     3.0  1260759182\n",
       "3       1     1129     2.0  1260759185\n",
       "4       1     1172     4.0  1260759205"
      ]
     },
     "execution_count": 11,
     "metadata": {},
     "output_type": "execute_result"
    }
   ],
   "source": [
    "movie_ratings.head()"
   ]
  },
  {
   "cell_type": "code",
   "execution_count": 12,
   "metadata": {},
   "outputs": [
    {
     "data": {
      "text/plain": [
       "100004"
      ]
     },
     "execution_count": 12,
     "metadata": {},
     "output_type": "execute_result"
    }
   ],
   "source": [
    "len(movie_ratings)"
   ]
  },
  {
   "cell_type": "code",
   "execution_count": 18,
   "metadata": {
    "collapsed": true
   },
   "outputs": [],
   "source": [
    "movie_names = pd.read_csv(path+\"movies.csv\").set_index('movieId')['title'].to_dict()"
   ]
  },
  {
   "cell_type": "code",
   "execution_count": 23,
   "metadata": {},
   "outputs": [],
   "source": [
    "users = movie_ratings.userId.unique()\n",
    "movies = movie_ratings.movieId.unique()"
   ]
  },
  {
   "cell_type": "code",
   "execution_count": 24,
   "metadata": {},
   "outputs": [],
   "source": [
    "movie2idx = {o:i for i,o in enumerate(movies)}\n",
    "useri2idx = {o:i for i,o in enumerate(users)}"
   ]
  },
  {
   "cell_type": "code",
   "execution_count": 30,
   "metadata": {
    "collapsed": true
   },
   "outputs": [],
   "source": [
    "movie_ratings.userId = movie_ratings.userId.apply(lambda x : useri2idx[x])\n",
    "movie_ratings.movieId = movie_ratings.movieId.apply(lambda x : movie2idx[x])"
   ]
  },
  {
   "cell_type": "code",
   "execution_count": 31,
   "metadata": {},
   "outputs": [
    {
     "data": {
      "text/plain": [
       "(0, 670)"
      ]
     },
     "execution_count": 31,
     "metadata": {},
     "output_type": "execute_result"
    }
   ],
   "source": [
    "user_min,user_max,movie_min,movie_max= (movie_ratings.userId.min(),movie_ratings.userId.max(),\n",
    "                                        movie_ratings.movieId.min(),movie_ratings.movieId.max())\n",
    "user_min,user_max"
   ]
  },
  {
   "cell_type": "code",
   "execution_count": 36,
   "metadata": {},
   "outputs": [
    {
     "data": {
      "text/plain": [
       "(671, 9066)"
      ]
     },
     "execution_count": 36,
     "metadata": {},
     "output_type": "execute_result"
    }
   ],
   "source": [
    "n_users = movie_ratings.userId.nunique()\n",
    "n_movies = movie_ratings.movieId.nunique()\n",
    "n_users,n_movies"
   ]
  },
  {
   "cell_type": "code",
   "execution_count": 37,
   "metadata": {
    "collapsed": true
   },
   "outputs": [],
   "source": [
    "n_factors = 50\n",
    "np.random.seed = 42\n",
    "\n",
    "msk = np.random.rand(len(movie_ratings)) < 0.8\n",
    "trn = movie_ratings[msk] \n",
    "val = movie_ratings[~msk]"
   ]
  },
  {
   "cell_type": "markdown",
   "metadata": {},
   "source": [
    "### creating the excel data using crosstab"
   ]
  },
  {
   "cell_type": "code",
   "execution_count": 41,
   "metadata": {},
   "outputs": [
    {
     "data": {
      "text/plain": [
       "userId\n",
       "546    2391\n",
       "563    1868\n",
       "623    1735\n",
       "14     1700\n",
       "72     1610\n",
       "451    1340\n",
       "467    1291\n",
       "379    1063\n",
       "310    1019\n",
       "29     1011\n",
       "293     947\n",
       "508     923\n",
       "579     922\n",
       "212     910\n",
       "211     876\n",
       "Name: movieId, dtype: int64"
      ]
     },
     "execution_count": 41,
     "metadata": {},
     "output_type": "execute_result"
    }
   ],
   "source": [
    "g = movie_ratings.groupby('userId')['movieId'].count()\n",
    "topUsers = g.sort_values(ascending=False)[:15]\n",
    "topUsers"
   ]
  },
  {
   "cell_type": "code",
   "execution_count": 81,
   "metadata": {},
   "outputs": [
    {
     "data": {
      "text/plain": [
       "userId\n",
       "0        20\n",
       "1        76\n",
       "2        51\n",
       "3       204\n",
       "4       100\n",
       "5        44\n",
       "6        88\n",
       "7       116\n",
       "8        45\n",
       "9        46\n",
       "10       38\n",
       "11       61\n",
       "12       53\n",
       "13       20\n",
       "14     1700\n",
       "15       29\n",
       "16      363\n",
       "17       51\n",
       "18      423\n",
       "19       98\n",
       "20      162\n",
       "21      220\n",
       "22      726\n",
       "23       21\n",
       "24       26\n",
       "25      172\n",
       "26       23\n",
       "27       50\n",
       "28       22\n",
       "29     1011\n",
       "       ... \n",
       "641      36\n",
       "642      24\n",
       "643      39\n",
       "644      30\n",
       "645     169\n",
       "646     150\n",
       "647     256\n",
       "648      90\n",
       "649      29\n",
       "650      20\n",
       "651     267\n",
       "652      51\n",
       "653     626\n",
       "654     105\n",
       "655     128\n",
       "656      20\n",
       "657      60\n",
       "658     142\n",
       "659      92\n",
       "660      33\n",
       "661      58\n",
       "662      26\n",
       "663     519\n",
       "664     434\n",
       "665      40\n",
       "666      68\n",
       "667      20\n",
       "668      37\n",
       "669      31\n",
       "670     115\n",
       "Name: movieId, Length: 671, dtype: int64"
      ]
     },
     "execution_count": 81,
     "metadata": {},
     "output_type": "execute_result"
    }
   ],
   "source": [
    "movie_ratings.groupby('userId')['movieId'].count()"
   ]
  },
  {
   "cell_type": "code",
   "execution_count": 42,
   "metadata": {},
   "outputs": [
    {
     "data": {
      "text/plain": [
       "movieId\n",
       "57     341\n",
       "49     324\n",
       "99     311\n",
       "92     304\n",
       "143    291\n",
       "72     274\n",
       "402    259\n",
       "417    247\n",
       "79     244\n",
       "89     237\n",
       "179    234\n",
       "27     228\n",
       "197    226\n",
       "505    224\n",
       "180    220\n",
       "Name: rating, dtype: int64"
      ]
     },
     "execution_count": 42,
     "metadata": {},
     "output_type": "execute_result"
    }
   ],
   "source": [
    "g = movie_ratings.groupby('movieId')['rating'].count()\n",
    "topMovies = g.sort_values(ascending=False)[:15]\n",
    "topMovies"
   ]
  },
  {
   "cell_type": "code",
   "execution_count": 45,
   "metadata": {},
   "outputs": [
    {
     "data": {
      "text/html": [
       "<div>\n",
       "<style>\n",
       "    .dataframe thead tr:only-child th {\n",
       "        text-align: right;\n",
       "    }\n",
       "\n",
       "    .dataframe thead th {\n",
       "        text-align: left;\n",
       "    }\n",
       "\n",
       "    .dataframe tbody tr th {\n",
       "        vertical-align: top;\n",
       "    }\n",
       "</style>\n",
       "<table border=\"1\" class=\"dataframe\">\n",
       "  <thead>\n",
       "    <tr style=\"text-align: right;\">\n",
       "      <th>movieId</th>\n",
       "      <th>27</th>\n",
       "      <th>49</th>\n",
       "      <th>57</th>\n",
       "      <th>72</th>\n",
       "      <th>79</th>\n",
       "      <th>89</th>\n",
       "      <th>92</th>\n",
       "      <th>99</th>\n",
       "      <th>143</th>\n",
       "      <th>179</th>\n",
       "      <th>180</th>\n",
       "      <th>197</th>\n",
       "      <th>402</th>\n",
       "      <th>417</th>\n",
       "      <th>505</th>\n",
       "    </tr>\n",
       "    <tr>\n",
       "      <th>userId</th>\n",
       "      <th></th>\n",
       "      <th></th>\n",
       "      <th></th>\n",
       "      <th></th>\n",
       "      <th></th>\n",
       "      <th></th>\n",
       "      <th></th>\n",
       "      <th></th>\n",
       "      <th></th>\n",
       "      <th></th>\n",
       "      <th></th>\n",
       "      <th></th>\n",
       "      <th></th>\n",
       "      <th></th>\n",
       "      <th></th>\n",
       "    </tr>\n",
       "  </thead>\n",
       "  <tbody>\n",
       "    <tr>\n",
       "      <th>14</th>\n",
       "      <td>3.0</td>\n",
       "      <td>5.0</td>\n",
       "      <td>1.0</td>\n",
       "      <td>3.0</td>\n",
       "      <td>4.0</td>\n",
       "      <td>4.0</td>\n",
       "      <td>5.0</td>\n",
       "      <td>2.0</td>\n",
       "      <td>5.0</td>\n",
       "      <td>5.0</td>\n",
       "      <td>4.0</td>\n",
       "      <td>5.0</td>\n",
       "      <td>5.0</td>\n",
       "      <td>2.0</td>\n",
       "      <td>5.0</td>\n",
       "    </tr>\n",
       "    <tr>\n",
       "      <th>29</th>\n",
       "      <td>5.0</td>\n",
       "      <td>5.0</td>\n",
       "      <td>5.0</td>\n",
       "      <td>4.0</td>\n",
       "      <td>5.0</td>\n",
       "      <td>4.0</td>\n",
       "      <td>4.0</td>\n",
       "      <td>5.0</td>\n",
       "      <td>4.0</td>\n",
       "      <td>4.0</td>\n",
       "      <td>5.0</td>\n",
       "      <td>5.0</td>\n",
       "      <td>3.0</td>\n",
       "      <td>4.0</td>\n",
       "      <td>5.0</td>\n",
       "    </tr>\n",
       "    <tr>\n",
       "      <th>72</th>\n",
       "      <td>4.0</td>\n",
       "      <td>5.0</td>\n",
       "      <td>5.0</td>\n",
       "      <td>4.0</td>\n",
       "      <td>5.0</td>\n",
       "      <td>3.0</td>\n",
       "      <td>4.5</td>\n",
       "      <td>5.0</td>\n",
       "      <td>4.5</td>\n",
       "      <td>5.0</td>\n",
       "      <td>5.0</td>\n",
       "      <td>5.0</td>\n",
       "      <td>4.5</td>\n",
       "      <td>5.0</td>\n",
       "      <td>4.0</td>\n",
       "    </tr>\n",
       "    <tr>\n",
       "      <th>211</th>\n",
       "      <td>5.0</td>\n",
       "      <td>4.0</td>\n",
       "      <td>4.0</td>\n",
       "      <td>3.0</td>\n",
       "      <td>5.0</td>\n",
       "      <td>3.0</td>\n",
       "      <td>4.0</td>\n",
       "      <td>4.5</td>\n",
       "      <td>4.0</td>\n",
       "      <td>NaN</td>\n",
       "      <td>3.0</td>\n",
       "      <td>3.0</td>\n",
       "      <td>5.0</td>\n",
       "      <td>3.0</td>\n",
       "      <td>NaN</td>\n",
       "    </tr>\n",
       "    <tr>\n",
       "      <th>212</th>\n",
       "      <td>2.5</td>\n",
       "      <td>NaN</td>\n",
       "      <td>2.0</td>\n",
       "      <td>5.0</td>\n",
       "      <td>NaN</td>\n",
       "      <td>4.0</td>\n",
       "      <td>2.5</td>\n",
       "      <td>NaN</td>\n",
       "      <td>5.0</td>\n",
       "      <td>5.0</td>\n",
       "      <td>3.0</td>\n",
       "      <td>3.0</td>\n",
       "      <td>4.0</td>\n",
       "      <td>3.0</td>\n",
       "      <td>2.0</td>\n",
       "    </tr>\n",
       "    <tr>\n",
       "      <th>293</th>\n",
       "      <td>3.0</td>\n",
       "      <td>NaN</td>\n",
       "      <td>4.0</td>\n",
       "      <td>4.0</td>\n",
       "      <td>4.0</td>\n",
       "      <td>3.0</td>\n",
       "      <td>NaN</td>\n",
       "      <td>3.0</td>\n",
       "      <td>4.0</td>\n",
       "      <td>4.0</td>\n",
       "      <td>4.5</td>\n",
       "      <td>4.0</td>\n",
       "      <td>4.5</td>\n",
       "      <td>4.0</td>\n",
       "      <td>NaN</td>\n",
       "    </tr>\n",
       "    <tr>\n",
       "      <th>310</th>\n",
       "      <td>3.0</td>\n",
       "      <td>3.0</td>\n",
       "      <td>5.0</td>\n",
       "      <td>4.5</td>\n",
       "      <td>5.0</td>\n",
       "      <td>4.5</td>\n",
       "      <td>2.0</td>\n",
       "      <td>4.5</td>\n",
       "      <td>4.0</td>\n",
       "      <td>3.0</td>\n",
       "      <td>4.5</td>\n",
       "      <td>4.5</td>\n",
       "      <td>4.0</td>\n",
       "      <td>3.0</td>\n",
       "      <td>4.0</td>\n",
       "    </tr>\n",
       "    <tr>\n",
       "      <th>379</th>\n",
       "      <td>5.0</td>\n",
       "      <td>5.0</td>\n",
       "      <td>5.0</td>\n",
       "      <td>4.0</td>\n",
       "      <td>NaN</td>\n",
       "      <td>4.0</td>\n",
       "      <td>5.0</td>\n",
       "      <td>4.0</td>\n",
       "      <td>4.0</td>\n",
       "      <td>4.0</td>\n",
       "      <td>NaN</td>\n",
       "      <td>3.0</td>\n",
       "      <td>5.0</td>\n",
       "      <td>4.0</td>\n",
       "      <td>4.0</td>\n",
       "    </tr>\n",
       "    <tr>\n",
       "      <th>451</th>\n",
       "      <td>4.0</td>\n",
       "      <td>5.0</td>\n",
       "      <td>4.0</td>\n",
       "      <td>5.0</td>\n",
       "      <td>4.0</td>\n",
       "      <td>4.0</td>\n",
       "      <td>5.0</td>\n",
       "      <td>5.0</td>\n",
       "      <td>4.0</td>\n",
       "      <td>4.0</td>\n",
       "      <td>4.0</td>\n",
       "      <td>4.0</td>\n",
       "      <td>2.0</td>\n",
       "      <td>3.5</td>\n",
       "      <td>5.0</td>\n",
       "    </tr>\n",
       "    <tr>\n",
       "      <th>467</th>\n",
       "      <td>3.0</td>\n",
       "      <td>3.5</td>\n",
       "      <td>3.0</td>\n",
       "      <td>2.5</td>\n",
       "      <td>NaN</td>\n",
       "      <td>NaN</td>\n",
       "      <td>3.0</td>\n",
       "      <td>3.5</td>\n",
       "      <td>3.5</td>\n",
       "      <td>3.0</td>\n",
       "      <td>3.5</td>\n",
       "      <td>3.0</td>\n",
       "      <td>3.0</td>\n",
       "      <td>4.0</td>\n",
       "      <td>4.0</td>\n",
       "    </tr>\n",
       "    <tr>\n",
       "      <th>508</th>\n",
       "      <td>5.0</td>\n",
       "      <td>5.0</td>\n",
       "      <td>4.0</td>\n",
       "      <td>3.0</td>\n",
       "      <td>5.0</td>\n",
       "      <td>2.0</td>\n",
       "      <td>4.0</td>\n",
       "      <td>4.0</td>\n",
       "      <td>5.0</td>\n",
       "      <td>5.0</td>\n",
       "      <td>5.0</td>\n",
       "      <td>3.0</td>\n",
       "      <td>4.5</td>\n",
       "      <td>3.0</td>\n",
       "      <td>4.5</td>\n",
       "    </tr>\n",
       "    <tr>\n",
       "      <th>546</th>\n",
       "      <td>NaN</td>\n",
       "      <td>5.0</td>\n",
       "      <td>2.0</td>\n",
       "      <td>3.0</td>\n",
       "      <td>5.0</td>\n",
       "      <td>NaN</td>\n",
       "      <td>5.0</td>\n",
       "      <td>5.0</td>\n",
       "      <td>NaN</td>\n",
       "      <td>2.5</td>\n",
       "      <td>2.0</td>\n",
       "      <td>3.5</td>\n",
       "      <td>3.5</td>\n",
       "      <td>3.5</td>\n",
       "      <td>5.0</td>\n",
       "    </tr>\n",
       "    <tr>\n",
       "      <th>563</th>\n",
       "      <td>1.0</td>\n",
       "      <td>5.0</td>\n",
       "      <td>3.0</td>\n",
       "      <td>5.0</td>\n",
       "      <td>4.0</td>\n",
       "      <td>5.0</td>\n",
       "      <td>5.0</td>\n",
       "      <td>NaN</td>\n",
       "      <td>2.0</td>\n",
       "      <td>5.0</td>\n",
       "      <td>5.0</td>\n",
       "      <td>3.0</td>\n",
       "      <td>3.0</td>\n",
       "      <td>4.0</td>\n",
       "      <td>5.0</td>\n",
       "    </tr>\n",
       "    <tr>\n",
       "      <th>579</th>\n",
       "      <td>4.5</td>\n",
       "      <td>4.5</td>\n",
       "      <td>3.5</td>\n",
       "      <td>3.0</td>\n",
       "      <td>4.0</td>\n",
       "      <td>4.5</td>\n",
       "      <td>4.0</td>\n",
       "      <td>4.0</td>\n",
       "      <td>4.0</td>\n",
       "      <td>4.0</td>\n",
       "      <td>3.5</td>\n",
       "      <td>3.0</td>\n",
       "      <td>4.5</td>\n",
       "      <td>4.0</td>\n",
       "      <td>4.5</td>\n",
       "    </tr>\n",
       "    <tr>\n",
       "      <th>623</th>\n",
       "      <td>NaN</td>\n",
       "      <td>5.0</td>\n",
       "      <td>3.0</td>\n",
       "      <td>3.0</td>\n",
       "      <td>NaN</td>\n",
       "      <td>3.0</td>\n",
       "      <td>5.0</td>\n",
       "      <td>NaN</td>\n",
       "      <td>5.0</td>\n",
       "      <td>5.0</td>\n",
       "      <td>5.0</td>\n",
       "      <td>5.0</td>\n",
       "      <td>2.0</td>\n",
       "      <td>5.0</td>\n",
       "      <td>4.0</td>\n",
       "    </tr>\n",
       "  </tbody>\n",
       "</table>\n",
       "</div>"
      ],
      "text/plain": [
       "movieId  27   49   57   72   79   89   92   99   143  179  180  197  402  417  \\\n",
       "userId                                                                          \n",
       "14       3.0  5.0  1.0  3.0  4.0  4.0  5.0  2.0  5.0  5.0  4.0  5.0  5.0  2.0   \n",
       "29       5.0  5.0  5.0  4.0  5.0  4.0  4.0  5.0  4.0  4.0  5.0  5.0  3.0  4.0   \n",
       "72       4.0  5.0  5.0  4.0  5.0  3.0  4.5  5.0  4.5  5.0  5.0  5.0  4.5  5.0   \n",
       "211      5.0  4.0  4.0  3.0  5.0  3.0  4.0  4.5  4.0  NaN  3.0  3.0  5.0  3.0   \n",
       "212      2.5  NaN  2.0  5.0  NaN  4.0  2.5  NaN  5.0  5.0  3.0  3.0  4.0  3.0   \n",
       "293      3.0  NaN  4.0  4.0  4.0  3.0  NaN  3.0  4.0  4.0  4.5  4.0  4.5  4.0   \n",
       "310      3.0  3.0  5.0  4.5  5.0  4.5  2.0  4.5  4.0  3.0  4.5  4.5  4.0  3.0   \n",
       "379      5.0  5.0  5.0  4.0  NaN  4.0  5.0  4.0  4.0  4.0  NaN  3.0  5.0  4.0   \n",
       "451      4.0  5.0  4.0  5.0  4.0  4.0  5.0  5.0  4.0  4.0  4.0  4.0  2.0  3.5   \n",
       "467      3.0  3.5  3.0  2.5  NaN  NaN  3.0  3.5  3.5  3.0  3.5  3.0  3.0  4.0   \n",
       "508      5.0  5.0  4.0  3.0  5.0  2.0  4.0  4.0  5.0  5.0  5.0  3.0  4.5  3.0   \n",
       "546      NaN  5.0  2.0  3.0  5.0  NaN  5.0  5.0  NaN  2.5  2.0  3.5  3.5  3.5   \n",
       "563      1.0  5.0  3.0  5.0  4.0  5.0  5.0  NaN  2.0  5.0  5.0  3.0  3.0  4.0   \n",
       "579      4.5  4.5  3.5  3.0  4.0  4.5  4.0  4.0  4.0  4.0  3.5  3.0  4.5  4.0   \n",
       "623      NaN  5.0  3.0  3.0  NaN  3.0  5.0  NaN  5.0  5.0  5.0  5.0  2.0  5.0   \n",
       "\n",
       "movieId  505  \n",
       "userId        \n",
       "14       5.0  \n",
       "29       5.0  \n",
       "72       4.0  \n",
       "211      NaN  \n",
       "212      2.0  \n",
       "293      NaN  \n",
       "310      4.0  \n",
       "379      4.0  \n",
       "451      5.0  \n",
       "467      4.0  \n",
       "508      4.5  \n",
       "546      5.0  \n",
       "563      5.0  \n",
       "579      4.5  \n",
       "623      4.0  "
      ]
     },
     "execution_count": 45,
     "metadata": {},
     "output_type": "execute_result"
    }
   ],
   "source": [
    "top_r = movie_ratings.join(topUsers,on='userId',how='inner',rsuffix='_r')\n",
    "top_r = top_r.join(topMovies,on='movieId',how='inner',rsuffix='_r')\n",
    "pd.crosstab(top_r.userId,top_r.movieId,top_r.rating,aggfunc=np.sum)"
   ]
  },
  {
   "cell_type": "markdown",
   "metadata": {},
   "source": [
    "### Dot Product"
   ]
  },
  {
   "cell_type": "code",
   "execution_count": 51,
   "metadata": {},
   "outputs": [],
   "source": [
    "userin = Input(shape=(1,),dtype='int64',name='userin')\n",
    "moviein = Input(shape=(1,),dtype='int64',name='moviein')\n",
    "u = Embedding(n_users,n_factors,input_length=1,W_regularizer=l2(1e-4))(userin)\n",
    "m = Embedding(n_movies,n_factors,input_length=1,W_regularizer=l2(1e-4))(moviein)\n",
    "x = merge([u,m],mode='dot')\n",
    "x = Flatten()(x)\n",
    "model = Model([userin,moviein],x)\n",
    "model.compile(Adam(0.001),loss='mse')"
   ]
  },
  {
   "cell_type": "code",
   "execution_count": 53,
   "metadata": {},
   "outputs": [
    {
     "name": "stdout",
     "output_type": "stream",
     "text": [
      "____________________________________________________________________________________________________\n",
      "Layer (type)                     Output Shape          Param #     Connected to                     \n",
      "====================================================================================================\n",
      "userin (InputLayer)              (None, 1)             0                                            \n",
      "____________________________________________________________________________________________________\n",
      "moviein (InputLayer)             (None, 1)             0                                            \n",
      "____________________________________________________________________________________________________\n",
      "embedding_3 (Embedding)          (None, 1, 50)         33550       userin[0][0]                     \n",
      "____________________________________________________________________________________________________\n",
      "embedding_4 (Embedding)          (None, 1, 50)         453300      moviein[0][0]                    \n",
      "____________________________________________________________________________________________________\n",
      "merge_1 (Merge)                  (None, 1, 1)          0           embedding_3[0][0]                \n",
      "                                                                   embedding_4[0][0]                \n",
      "____________________________________________________________________________________________________\n",
      "flatten_1 (Flatten)              (None, 1)             0           merge_1[0][0]                    \n",
      "====================================================================================================\n",
      "Total params: 486,850\n",
      "Trainable params: 486,850\n",
      "Non-trainable params: 0\n",
      "____________________________________________________________________________________________________\n"
     ]
    }
   ],
   "source": [
    "model.summary()"
   ]
  },
  {
   "cell_type": "code",
   "execution_count": 55,
   "metadata": {},
   "outputs": [
    {
     "name": "stdout",
     "output_type": "stream",
     "text": [
      "Train on 79900 samples, validate on 20104 samples\n",
      "Epoch 1/10\n",
      "79900/79900 [==============================] - 8s - loss: 2.4209 - val_loss: 2.6222\n",
      "Epoch 2/10\n",
      "79900/79900 [==============================] - 8s - loss: 2.2585 - val_loss: 2.5727\n",
      "Epoch 3/10\n",
      "79900/79900 [==============================] - 8s - loss: 2.1998 - val_loss: 2.5626\n",
      "Epoch 4/10\n",
      "79900/79900 [==============================] - 8s - loss: 2.1687 - val_loss: 2.5624\n",
      "Epoch 5/10\n",
      "79900/79900 [==============================] - 8s - loss: 2.1433 - val_loss: 2.5670\n",
      "Epoch 6/10\n",
      "79900/79900 [==============================] - 9s - loss: 2.1186 - val_loss: 2.5589\n",
      "Epoch 7/10\n",
      "79900/79900 [==============================] - 9s - loss: 2.0934 - val_loss: 2.5593\n",
      "Epoch 8/10\n",
      "79900/79900 [==============================] - 9s - loss: 2.0687 - val_loss: 2.5694\n",
      "Epoch 9/10\n",
      "79900/79900 [==============================] - 9s - loss: 2.0468 - val_loss: 2.5703\n",
      "Epoch 10/10\n",
      "79900/79900 [==============================] - 9s - loss: 2.0246 - val_loss: 2.5862\n"
     ]
    },
    {
     "data": {
      "text/plain": [
       "<keras.callbacks.History at 0x7faabbc2fc90>"
      ]
     },
     "execution_count": 55,
     "metadata": {},
     "output_type": "execute_result"
    }
   ],
   "source": [
    "model.fit([trn.userId,trn.movieId],trn.rating,batch_size=64,nb_epoch=10,validation_data=([val.userId,val.movieId],val.rating))"
   ]
  },
  {
   "cell_type": "code",
   "execution_count": 57,
   "metadata": {},
   "outputs": [
    {
     "name": "stdout",
     "output_type": "stream",
     "text": [
      "Train on 79900 samples, validate on 20104 samples\n",
      "Epoch 1/10\n",
      "79900/79900 [==============================] - 8s - loss: 2.0063 - val_loss: 2.5941\n",
      "Epoch 2/10\n",
      "79900/79900 [==============================] - 8s - loss: 1.9876 - val_loss: 2.6061\n",
      "Epoch 3/10\n",
      "79900/79900 [==============================] - 8s - loss: 1.9714 - val_loss: 2.6145\n",
      "Epoch 4/10\n",
      "79900/79900 [==============================] - 9s - loss: 1.9546 - val_loss: 2.6286\n",
      "Epoch 5/10\n",
      "79900/79900 [==============================] - 9s - loss: 1.9415 - val_loss: 2.6378\n",
      "Epoch 6/10\n",
      "79900/79900 [==============================] - 9s - loss: 1.9282 - val_loss: 2.6511\n",
      "Epoch 7/10\n",
      "79900/79900 [==============================] - 9s - loss: 1.9166 - val_loss: 2.6631\n",
      "Epoch 8/10\n",
      "79900/79900 [==============================] - 9s - loss: 1.9040 - val_loss: 2.6790\n",
      "Epoch 9/10\n",
      "79900/79900 [==============================] - 10s - loss: 1.8946 - val_loss: 2.6969\n",
      "Epoch 10/10\n",
      "79900/79900 [==============================] - 9s - loss: 1.8859 - val_loss: 2.7026\n"
     ]
    },
    {
     "data": {
      "text/plain": [
       "<keras.callbacks.History at 0x7faabbc1f750>"
      ]
     },
     "execution_count": 57,
     "metadata": {},
     "output_type": "execute_result"
    }
   ],
   "source": [
    "model.optimizer.lr=0.01\n",
    "model.fit([trn.userId,trn.movieId],trn.rating,batch_size=64,nb_epoch=10,validation_data=([val.userId,val.movieId],val.rating))"
   ]
  },
  {
   "cell_type": "markdown",
   "metadata": {},
   "source": [
    "### create Bias"
   ]
  },
  {
   "cell_type": "code",
   "execution_count": 64,
   "metadata": {},
   "outputs": [],
   "source": [
    "def embedding_input(name,n_in,n_out,reg):\n",
    "    x = Input(shape=(1,),dtype='int64',name=name)\n",
    "    return x, Embedding(n_in,n_out,input_length=1,W_regularizer=l2(reg))(x)\n",
    "\n",
    "user_in, u = embedding_input(\"user_in\",n_users,n_factors,1e-4)\n",
    "movie_in, m = embedding_input(\"movie_in\",n_movies,n_factors,1e-4)\n",
    "\n",
    "def create_bias(inp,n_in):\n",
    "    x = Embedding(n_in,1,input_length=1)(inp)\n",
    "    return Flatten()(x)\n",
    "ub = create_bias(user_in,n_users)\n",
    "mb = create_bias(movie_in,n_movies)\n",
    "\n",
    "x = merge([u,m],mode='dot')\n",
    "x = Flatten()(x) \n",
    "x = merge([x,ub],mode='sum')\n",
    "x = merge([x,mb],mode='sum')\n",
    "model = Model([user_in,movie_in],x)\n",
    "model.compile(Adam(0.001),loss='mse')"
   ]
  },
  {
   "cell_type": "code",
   "execution_count": 65,
   "metadata": {},
   "outputs": [
    {
     "name": "stdout",
     "output_type": "stream",
     "text": [
      "Train on 79900 samples, validate on 20104 samples\n",
      "Epoch 1/5\n",
      "79900/79900 [==============================] - 4s - loss: 10.8837 - val_loss: 5.4259\n",
      "Epoch 2/5\n",
      "79900/79900 [==============================] - 5s - loss: 3.3879 - val_loss: 2.6367\n",
      "Epoch 3/5\n",
      "79900/79900 [==============================] - 7s - loss: 2.2252 - val_loss: 2.2838\n",
      "Epoch 4/5\n",
      "79900/79900 [==============================] - 6s - loss: 1.9741 - val_loss: 2.1661\n",
      "Epoch 5/5\n",
      "79900/79900 [==============================] - 7s - loss: 1.8668 - val_loss: 2.1007\n"
     ]
    },
    {
     "data": {
      "text/plain": [
       "<keras.callbacks.History at 0x7faab6d6bf10>"
      ]
     },
     "execution_count": 65,
     "metadata": {},
     "output_type": "execute_result"
    }
   ],
   "source": [
    "model.fit([trn.userId,trn.movieId],trn.rating,batch_size=128,nb_epoch=5,validation_data=([val.userId,val.movieId],val.rating))\n"
   ]
  },
  {
   "cell_type": "code",
   "execution_count": 66,
   "metadata": {},
   "outputs": [
    {
     "name": "stdout",
     "output_type": "stream",
     "text": [
      "Train on 79900 samples, validate on 20104 samples\n",
      "Epoch 1/10\n",
      "79900/79900 [==============================] - 7s - loss: 1.7981 - val_loss: 2.0505\n",
      "Epoch 2/10\n",
      "79900/79900 [==============================] - 7s - loss: 1.7401 - val_loss: 2.0015\n",
      "Epoch 3/10\n",
      "79900/79900 [==============================] - 7s - loss: 1.6840 - val_loss: 1.9563\n",
      "Epoch 4/10\n",
      "79900/79900 [==============================] - 7s - loss: 1.6311 - val_loss: 1.9108\n",
      "Epoch 5/10\n",
      "79900/79900 [==============================] - 8s - loss: 1.5781 - val_loss: 1.8665\n",
      "Epoch 6/10\n",
      "79900/79900 [==============================] - 7s - loss: 1.5275 - val_loss: 1.8231\n",
      "Epoch 7/10\n",
      "79900/79900 [==============================] - 7s - loss: 1.4760 - val_loss: 1.7814\n",
      "Epoch 8/10\n",
      "79900/79900 [==============================] - 7s - loss: 1.4274 - val_loss: 1.7388\n",
      "Epoch 9/10\n",
      "79900/79900 [==============================] - 7s - loss: 1.3780 - val_loss: 1.6982\n",
      "Epoch 10/10\n",
      "79900/79900 [==============================] - 7s - loss: 1.3309 - val_loss: 1.6635\n"
     ]
    },
    {
     "data": {
      "text/plain": [
       "<keras.callbacks.History at 0x7faab6741ed0>"
      ]
     },
     "execution_count": 66,
     "metadata": {},
     "output_type": "execute_result"
    }
   ],
   "source": [
    "model.optimizer.lr = 0.001\n",
    "model.fit([trn.userId,trn.movieId],trn.rating,batch_size=128,nb_epoch=10,validation_data=([val.userId,val.movieId],val.rating))"
   ]
  },
  {
   "cell_type": "code",
   "execution_count": 67,
   "metadata": {},
   "outputs": [
    {
     "name": "stdout",
     "output_type": "stream",
     "text": [
      "Train on 79900 samples, validate on 20104 samples\n",
      "Epoch 1/10\n",
      "79900/79900 [==============================] - 7s - loss: 1.2848 - val_loss: 1.6213\n",
      "Epoch 2/10\n",
      "79900/79900 [==============================] - 7s - loss: 1.2401 - val_loss: 1.5840\n",
      "Epoch 3/10\n",
      "79900/79900 [==============================] - 7s - loss: 1.1967 - val_loss: 1.5496\n",
      "Epoch 4/10\n",
      "79900/79900 [==============================] - 7s - loss: 1.1551 - val_loss: 1.5158\n",
      "Epoch 5/10\n",
      "79900/79900 [==============================] - 7s - loss: 1.1147 - val_loss: 1.4849\n",
      "Epoch 6/10\n",
      "79900/79900 [==============================] - 7s - loss: 1.0750 - val_loss: 1.4532\n",
      "Epoch 7/10\n",
      "79900/79900 [==============================] - 7s - loss: 1.0376 - val_loss: 1.4240\n",
      "Epoch 8/10\n",
      "79900/79900 [==============================] - 7s - loss: 1.0012 - val_loss: 1.3949\n",
      "Epoch 9/10\n",
      "79900/79900 [==============================] - 7s - loss: 0.9662 - val_loss: 1.3696\n",
      "Epoch 10/10\n",
      "79900/79900 [==============================] - 7s - loss: 0.9327 - val_loss: 1.3433\n"
     ]
    },
    {
     "data": {
      "text/plain": [
       "<keras.callbacks.History at 0x7faab7150350>"
      ]
     },
     "execution_count": 67,
     "metadata": {},
     "output_type": "execute_result"
    }
   ],
   "source": [
    "model.optimizer.lr = 0.01\n",
    "model.fit([trn.userId,trn.movieId],trn.rating,batch_size=128,nb_epoch=10,validation_data=([val.userId,val.movieId],val.rating))"
   ]
  },
  {
   "cell_type": "code",
   "execution_count": 68,
   "metadata": {},
   "outputs": [
    {
     "name": "stdout",
     "output_type": "stream",
     "text": [
      "Train on 79900 samples, validate on 20104 samples\n",
      "Epoch 1/10\n",
      "79900/79900 [==============================] - 7s - loss: 0.9005 - val_loss: 1.3176\n",
      "Epoch 2/10\n",
      "79900/79900 [==============================] - 7s - loss: 0.8701 - val_loss: 1.2927\n",
      "Epoch 3/10\n",
      "79900/79900 [==============================] - 8s - loss: 0.8410 - val_loss: 1.2709\n",
      "Epoch 4/10\n",
      "79900/79900 [==============================] - 7s - loss: 0.8135 - val_loss: 1.2494\n",
      "Epoch 5/10\n",
      "79900/79900 [==============================] - 7s - loss: 0.7872 - val_loss: 1.2290\n",
      "Epoch 6/10\n",
      "79900/79900 [==============================] - 7s - loss: 0.7624 - val_loss: 1.2106\n",
      "Epoch 7/10\n",
      "79900/79900 [==============================] - 4s - loss: 0.7391 - val_loss: 1.1922\n",
      "Epoch 8/10\n",
      "79900/79900 [==============================] - 4s - loss: 0.7174 - val_loss: 1.1749\n",
      "Epoch 9/10\n",
      "79900/79900 [==============================] - 4s - loss: 0.6969 - val_loss: 1.1597\n",
      "Epoch 10/10\n",
      "79900/79900 [==============================] - 7s - loss: 0.6779 - val_loss: 1.1456\n"
     ]
    },
    {
     "data": {
      "text/plain": [
       "<keras.callbacks.History at 0x7faab6cbd350>"
      ]
     },
     "execution_count": 68,
     "metadata": {},
     "output_type": "execute_result"
    }
   ],
   "source": [
    "model.optimizer.lr = 0.001\n",
    "model.fit([trn.userId,trn.movieId],trn.rating,batch_size=128,nb_epoch=10,validation_data=([val.userId,val.movieId],val.rating))"
   ]
  },
  {
   "cell_type": "code",
   "execution_count": 70,
   "metadata": {
    "collapsed": true
   },
   "outputs": [],
   "source": [
    "model.save_weights(model_path+'bias.h5')\n",
    "model.load_weights(model_path+'bias.h5')"
   ]
  },
  {
   "cell_type": "code",
   "execution_count": 73,
   "metadata": {},
   "outputs": [
    {
     "data": {
      "text/plain": [
       "array([[ 4.9786]], dtype=float32)"
      ]
     },
     "execution_count": 73,
     "metadata": {},
     "output_type": "execute_result"
    }
   ],
   "source": [
    "model.predict([np.array([3]),np.array([6])])"
   ]
  },
  {
   "cell_type": "code",
   "execution_count": 74,
   "metadata": {},
   "outputs": [
    {
     "name": "stdout",
     "output_type": "stream",
     "text": [
      "____________________________________________________________________________________________________\n",
      "Layer (type)                     Output Shape          Param #     Connected to                     \n",
      "====================================================================================================\n",
      "user_in (InputLayer)             (None, 1)             0                                            \n",
      "____________________________________________________________________________________________________\n",
      "movie_in (InputLayer)            (None, 1)             0                                            \n",
      "____________________________________________________________________________________________________\n",
      "embedding_13 (Embedding)         (None, 1, 50)         33550       user_in[0][0]                    \n",
      "____________________________________________________________________________________________________\n",
      "embedding_14 (Embedding)         (None, 1, 50)         453300      movie_in[0][0]                   \n",
      "____________________________________________________________________________________________________\n",
      "merge_8 (Merge)                  (None, 1, 1)          0           embedding_13[0][0]               \n",
      "                                                                   embedding_14[0][0]               \n",
      "____________________________________________________________________________________________________\n",
      "embedding_15 (Embedding)         (None, 1, 1)          671         user_in[0][0]                    \n",
      "____________________________________________________________________________________________________\n",
      "flatten_10 (Flatten)             (None, 1)             0           merge_8[0][0]                    \n",
      "____________________________________________________________________________________________________\n",
      "flatten_8 (Flatten)              (None, 1)             0           embedding_15[0][0]               \n",
      "____________________________________________________________________________________________________\n",
      "embedding_16 (Embedding)         (None, 1, 1)          9066        movie_in[0][0]                   \n",
      "____________________________________________________________________________________________________\n",
      "merge_9 (Merge)                  (None, 1)             0           flatten_10[0][0]                 \n",
      "                                                                   flatten_8[0][0]                  \n",
      "____________________________________________________________________________________________________\n",
      "flatten_9 (Flatten)              (None, 1)             0           embedding_16[0][0]               \n",
      "____________________________________________________________________________________________________\n",
      "merge_10 (Merge)                 (None, 1)             0           merge_9[0][0]                    \n",
      "                                                                   flatten_9[0][0]                  \n",
      "====================================================================================================\n",
      "Total params: 496,587\n",
      "Trainable params: 496,587\n",
      "Non-trainable params: 0\n",
      "____________________________________________________________________________________________________\n"
     ]
    }
   ],
   "source": [
    "model.summary()"
   ]
  },
  {
   "cell_type": "markdown",
   "metadata": {},
   "source": [
    "### Analasys"
   ]
  },
  {
   "cell_type": "code",
   "execution_count": 87,
   "metadata": {},
   "outputs": [
    {
     "data": {
      "text/plain": [
       "array([  57,   49,   99, ..., 3436, 1804, 1793])"
      ]
     },
     "execution_count": 87,
     "metadata": {},
     "output_type": "execute_result"
    }
   ],
   "source": [
    "g  = movie_ratings.groupby('movieId')['rating'].count()\n",
    "topMovies = g.sort_values(ascending=False)[:2000]\n",
    "topMovies = np.array(topMovies.index)\n",
    "topMovies"
   ]
  },
  {
   "cell_type": "code",
   "execution_count": 95,
   "metadata": {},
   "outputs": [],
   "source": [
    "get_movie_bias = Model(movie_in,mb)\n",
    "movies_bias = get_movie_bias.predict(topMovies)\n",
    "movie_ratings = [(b[0],movie_names[movies[i]]) for i,b in zip(topMovies,movies_bias)]\n"
   ]
  },
  {
   "cell_type": "code",
   "execution_count": 96,
   "metadata": {},
   "outputs": [
    {
     "data": {
      "text/plain": [
       "[(-0.59436661, 'Battlefield Earth (2000)'),\n",
       " (-0.19754048, 'Little Nicky (2000)'),\n",
       " (-0.14774847, 'Speed 2: Cruise Control (1997)'),\n",
       " (-0.1202035, 'Super Mario Bros. (1993)'),\n",
       " (-0.10766349, 'Bio-Dome (1996)'),\n",
       " (-0.036007706, '2 Fast 2 Furious (Fast and the Furious 2, The) (2003)'),\n",
       " (-0.025972215, 'Superman IV: The Quest for Peace (1987)'),\n",
       " (-0.01023565, 'Police Academy 5: Assignment: Miami Beach (1988)'),\n",
       " (0.0094238073, 'Police Academy 6: City Under Siege (1989)'),\n",
       " (0.041419443, 'Jaws 3-D (1983)'),\n",
       " (0.048897721, 'Howard the Duck (1986)'),\n",
       " (0.054537874, 'Spice World (1997)'),\n",
       " (0.069081135, 'Wild Wild West (1999)'),\n",
       " (0.076677635, 'Blade: Trinity (2004)'),\n",
       " (0.089482628, 'Road to Wellville, The (1994)')]"
      ]
     },
     "execution_count": 96,
     "metadata": {},
     "output_type": "execute_result"
    }
   ],
   "source": [
    "sorted(movie_ratings,key=itemgetter(0))[:15]"
   ]
  },
  {
   "cell_type": "code",
   "execution_count": 97,
   "metadata": {},
   "outputs": [
    {
     "data": {
      "text/plain": [
       "[(1.6315542, \"Howl's Moving Castle (Hauru no ugoku shiro) (2004)\"),\n",
       " (1.5398322, 'You Can Count on Me (2000)'),\n",
       " (1.534071, 'Rush (2013)'),\n",
       " (1.5096015, 'Little Big Man (1970)'),\n",
       " (1.4929283, 'My Neighbor Totoro (Tonari no Totoro) (1988)'),\n",
       " (1.4573827, 'Gold Rush, The (1925)'),\n",
       " (1.4364604, 'Shawshank Redemption, The (1994)'),\n",
       " (1.4363734, 'The Imitation Game (2014)'),\n",
       " (1.4304433, 'Tom Jones (1963)'),\n",
       " (1.4131697, 'Argo (2012)'),\n",
       " (1.4009535, 'Harry Potter and the Deathly Hallows: Part 2 (2011)'),\n",
       " (1.3987947,\n",
       "  \"Monty Python's And Now for Something Completely Different (1971)\"),\n",
       " (1.3960022, 'Ideal Husband, An (1999)'),\n",
       " (1.3769603, 'Three Colors: Blue (Trois couleurs: Bleu) (1993)'),\n",
       " (1.3762519,\n",
       "  'Fog of War: Eleven Lessons from the Life of Robert S. McNamara, The (2003)')]"
      ]
     },
     "execution_count": 97,
     "metadata": {},
     "output_type": "execute_result"
    }
   ],
   "source": [
    "sorted(movie_ratings,key=itemgetter(0),reverse=True)[:15]"
   ]
  },
  {
   "cell_type": "code",
   "execution_count": 98,
   "metadata": {},
   "outputs": [
    {
     "data": {
      "text/plain": [
       "(2000, 50)"
      ]
     },
     "execution_count": 98,
     "metadata": {},
     "output_type": "execute_result"
    }
   ],
   "source": [
    "get_movie_emb = Model(movie_in,m)\n",
    "movie_emb = np.squeeze(get_movie_emb.predict([topMovies]))\n",
    "movie_emb.shape"
   ]
  },
  {
   "cell_type": "code",
   "execution_count": 102,
   "metadata": {},
   "outputs": [
    {
     "data": {
      "text/plain": [
       "(3, 2000)"
      ]
     },
     "execution_count": 102,
     "metadata": {},
     "output_type": "execute_result"
    }
   ],
   "source": [
    "pca = PCA(n_components=3)\n",
    "movie_pca = pca.fit(movie_emb.T).components_\n",
    "movie_pca.shape"
   ]
  },
  {
   "cell_type": "code",
   "execution_count": 104,
   "metadata": {},
   "outputs": [],
   "source": [
    "fca = movie_pca[0]"
   ]
  },
  {
   "cell_type": "code",
   "execution_count": 105,
   "metadata": {
    "collapsed": true
   },
   "outputs": [],
   "source": [
    "movie_comp = [(i,movie_names[movies[j]])for i,j in zip(fca,topMovies)]"
   ]
  },
  {
   "cell_type": "code",
   "execution_count": 108,
   "metadata": {},
   "outputs": [
    {
     "data": {
      "text/plain": [
       "[(-0.055180183341796404, 'Usual Suspects, The (1995)'),\n",
       " (-0.054853027809343244,\n",
       "  'Star Wars: Episode V - The Empire Strikes Back (1980)'),\n",
       " (-0.05392377051343572,\n",
       "  \"Amelie (Fabuleux destin d'Am\\xc3\\xa9lie Poulain, Le) (2001)\"),\n",
       " (-0.053490809847349087, 'Silence of the Lambs, The (1991)'),\n",
       " (-0.053199677571584746, 'Wallace & Gromit: The Wrong Trousers (1993)'),\n",
       " (-0.053071164528338648,\n",
       "  'Lord of the Rings: The Return of the King, The (2003)'),\n",
       " (-0.052570260790190587, 'Toy Story (1995)'),\n",
       " (-0.052287270038092248, 'Run Lola Run (Lola rennt) (1998)'),\n",
       " (-0.052239763866224531, 'American Beauty (1999)'),\n",
       " (-0.051578654632464839, 'Shawshank Redemption, The (1994)')]"
      ]
     },
     "execution_count": 108,
     "metadata": {},
     "output_type": "execute_result"
    }
   ],
   "source": [
    "sorted(movie_comp,reverse=False,key=itemgetter(0))[:10]"
   ]
  },
  {
   "cell_type": "code",
   "execution_count": 109,
   "metadata": {},
   "outputs": [
    {
     "data": {
      "text/plain": [
       "[(0.019800805618678585, 'Anaconda (1997)'),\n",
       " (0.013045828626596492, 'Police Academy 3: Back in Training (1986)'),\n",
       " (0.011806221362314621, 'Howard the Duck (1986)'),\n",
       " (0.011684074216186002, 'Barb Wire (1996)'),\n",
       " (0.011663255404825023,\n",
       "  'Highlander III: The Sorcerer (a.k.a. Highlander: The Final Dimension) (1994)'),\n",
       " (0.011546864571061771, 'Police Academy 6: City Under Siege (1989)'),\n",
       " (0.011499848935653071, 'Gremlins 2: The New Batch (1990)'),\n",
       " (0.011142500153998218, 'House on Haunted Hill (1999)'),\n",
       " (0.010699723392539367, 'Police Academy 5: Assignment: Miami Beach (1988)'),\n",
       " (0.010312003912757215, 'Mighty Morphin Power Rangers: The Movie (1995)')]"
      ]
     },
     "execution_count": 109,
     "metadata": {},
     "output_type": "execute_result"
    }
   ],
   "source": [
    "sorted(movie_comp,reverse=True,key=itemgetter(0))[:10]"
   ]
  },
  {
   "cell_type": "code",
   "execution_count": 111,
   "metadata": {},
   "outputs": [],
   "source": [
    "fca1 = movie_pca[1]\n",
    "movie_comp = [(i,movie_names[movies[j]]) for i,j in zip(fca1,topMovies)]"
   ]
  },
  {
   "cell_type": "code",
   "execution_count": 113,
   "metadata": {},
   "outputs": [
    {
     "data": {
      "text/plain": [
       "[(-0.11133227094398046, 'Independence Day (a.k.a. ID4) (1996)'),\n",
       " (-0.10432427680892606, 'Armageddon (1998)'),\n",
       " (-0.084126030986164627, 'Titanic (1997)'),\n",
       " (-0.079704428222592716, 'Stargate (1994)'),\n",
       " (-0.070931565302142049, 'Speed (1994)'),\n",
       " (-0.070380424974611902, 'Jurassic Park (1993)'),\n",
       " (-0.069416314252433706, 'Rock, The (1996)'),\n",
       " (-0.068314629152012488, 'American President, The (1995)'),\n",
       " (-0.068219401562880366, 'Twister (1996)'),\n",
       " (-0.067103333303696167, 'Waterworld (1995)')]"
      ]
     },
     "execution_count": 113,
     "metadata": {},
     "output_type": "execute_result"
    }
   ],
   "source": [
    "sorted(movie_comp,reverse=False,key=itemgetter(0))[:10]"
   ]
  },
  {
   "cell_type": "code",
   "execution_count": 114,
   "metadata": {},
   "outputs": [
    {
     "data": {
      "text/plain": [
       "[(0.067212082519973293, 'Clockwork Orange, A (1971)'),\n",
       " (0.064043043216107057, 'Annie Hall (1977)'),\n",
       " (0.062959150222062193, 'City Lights (1931)'),\n",
       " (0.062719061764760733, 'Apocalypse Now (1979)'),\n",
       " (0.061685154821593528, 'Harold and Maude (1971)'),\n",
       " (0.059759509522027431, 'Royal Tenenbaums, The (2001)'),\n",
       " (0.058248003127838087, 'Bringing Up Baby (1938)'),\n",
       " (0.057927902804054542, 'Lost in Translation (2003)'),\n",
       " (0.056718109298887938, 'Manhattan (1979)'),\n",
       " (0.056102310693174687, 'Requiem for a Dream (2000)')]"
      ]
     },
     "execution_count": 114,
     "metadata": {},
     "output_type": "execute_result"
    }
   ],
   "source": [
    "sorted(movie_comp,reverse=True,key=itemgetter(0))[:10]"
   ]
  },
  {
   "cell_type": "code",
   "execution_count": 115,
   "metadata": {
    "collapsed": true
   },
   "outputs": [],
   "source": [
    "fca2 = movie_pca[2]\n",
    "movie_comp = [(i,movie_names[movies[j]]) for i,j in zip(fca2,topMovies)]"
   ]
  },
  {
   "cell_type": "code",
   "execution_count": 116,
   "metadata": {},
   "outputs": [
    {
     "data": {
      "text/plain": [
       "[(-0.10781106011200639, 'Dumb & Dumber (Dumb and Dumber) (1994)'),\n",
       " (-0.10366165506398141, 'Silence of the Lambs, The (1991)'),\n",
       " (-0.094545467109257736, 'Seven (a.k.a. Se7en) (1995)'),\n",
       " (-0.091815264712175118, 'Eyes Wide Shut (1999)'),\n",
       " (-0.084780418617034628, 'Terminator 2: Judgment Day (1991)'),\n",
       " (-0.084551048995243072, 'Ace Ventura: Pet Detective (1994)'),\n",
       " (-0.082837911330745015, 'Stargate (1994)'),\n",
       " (-0.080627546086719765, '2001: A Space Odyssey (1968)'),\n",
       " (-0.079082468067482176, 'Scream (1996)'),\n",
       " (-0.074256450911879851, 'American Pie (1999)')]"
      ]
     },
     "execution_count": 116,
     "metadata": {},
     "output_type": "execute_result"
    }
   ],
   "source": [
    "sorted(movie_comp,reverse=False,key=itemgetter(0))[:10]"
   ]
  },
  {
   "cell_type": "code",
   "execution_count": 117,
   "metadata": {},
   "outputs": [
    {
     "data": {
      "text/plain": [
       "[(0.080637565268260158, 'Chicken Run (2000)'),\n",
       " (0.070638689432691151,\n",
       "  'Chronicles of Narnia: The Lion, the Witch and the Wardrobe, The (2005)'),\n",
       " (0.066070888878957609, 'Sabrina (1995)'),\n",
       " (0.065400913435887373, 'Blind Side, The  (2009)'),\n",
       " (0.061880288932679654, 'Life Is Beautiful (La Vita \\xc3\\xa8 bella) (1997)'),\n",
       " (0.061565779834228312, 'Lilo & Stitch (2002)'),\n",
       " (0.060418583141510732, 'Bend It Like Beckham (2002)'),\n",
       " (0.059246488529499958, 'Chicago (2002)'),\n",
       " (0.058502792877394606, \"Pirates of the Caribbean: Dead Man's Chest (2006)\"),\n",
       " (0.058082687460052788, 'Superman II (1980)')]"
      ]
     },
     "execution_count": 117,
     "metadata": {},
     "output_type": "execute_result"
    }
   ],
   "source": [
    "sorted(movie_comp,reverse=True,key=itemgetter(0))[:10]"
   ]
  },
  {
   "cell_type": "code",
   "execution_count": 121,
   "metadata": {
    "collapsed": true
   },
   "outputs": [],
   "source": [
    "import sys\n",
    "stdout, stderr = sys.stdout, sys.stderr # save notebook stdout and stderr\n",
    "reload(sys)\n",
    "sys.setdefaultencoding('utf-8')\n",
    "sys.stdout, sys.stderr = stdout, stderr # restore notebook stdout and stderr"
   ]
  },
  {
   "cell_type": "code",
   "execution_count": 122,
   "metadata": {},
   "outputs": [
    {
     "data": {
      "image/png": "[encoded data removed]",
      "text/plain": [
       "<matplotlib.figure.Figure at 0x7faab5dd8190>"
      ]
     },
     "metadata": {},
     "output_type": "display_data"
    }
   ],
   "source": [
    "start = 50;end=100\n",
    "X = fca[start:end]\n",
    "Y = fca2[start:end]\n",
    "plt.figure(figsize=(15,15))\n",
    "plt.scatter(X,Y)\n",
    "for i,j,k in zip(topMovies[start:end],X,Y):\n",
    "    plt.text(j,k,movie_names[movies[i]],color=np.random.rand(3)*0.7,fontsize=14)\n",
    "plt.show()"
   ]
  },
  {
   "cell_type": "markdown",
   "metadata": {},
   "source": [
    "### Neural Nets"
   ]
  },
  {
   "cell_type": "code",
   "execution_count": 123,
   "metadata": {
    "collapsed": true
   },
   "outputs": [],
   "source": [
    "user_in,u = embedding_input(\"user_in\",n_users,n_factors,1e-4)\n",
    "movie_in,m = embedding_input(\"movie_in\",n_movies,n_factors,1e-4)"
   ]
  },
  {
   "cell_type": "code",
   "execution_count": 134,
   "metadata": {},
   "outputs": [],
   "source": [
    "x = merge([u,m],mode='concat')\n",
    "x = Flatten()(x)\n",
    "x = Dropout(0.3)(x)\n",
    "x = Dense(70)(x)\n",
    "x = Dropout(0.7)(x)\n",
    "x = Dense(1)(x)\n",
    "nn = Model([user_in,movie_in],x)\n",
    "nn.compile(Adam(0.01),loss='msle')"
   ]
  },
  {
   "cell_type": "code",
   "execution_count": 135,
   "metadata": {},
   "outputs": [
    {
     "name": "stdout",
     "output_type": "stream",
     "text": [
      "Train on 79900 samples, validate on 20104 samples\n",
      "Epoch 1/10\n",
      "79900/79900 [==============================] - 5s - loss: 0.1446 - val_loss: 0.1035\n",
      "Epoch 2/10\n",
      "79900/79900 [==============================] - 5s - loss: 0.1101 - val_loss: 0.0940\n",
      "Epoch 3/10\n",
      "79900/79900 [==============================] - 6s - loss: 0.0961 - val_loss: 0.0877\n",
      "Epoch 4/10\n",
      "79900/79900 [==============================] - 6s - loss: 0.0875 - val_loss: 0.0829\n",
      "Epoch 5/10\n",
      "79900/79900 [==============================] - 7s - loss: 0.0837 - val_loss: 0.0819\n",
      "Epoch 6/10\n",
      "79900/79900 [==============================] - 7s - loss: 0.0847 - val_loss: 0.0855\n",
      "Epoch 7/10\n",
      "79900/79900 [==============================] - 8s - loss: 0.0881 - val_loss: 0.0902\n",
      "Epoch 8/10\n",
      "79900/79900 [==============================] - 8s - loss: 0.0910 - val_loss: 0.0912\n",
      "Epoch 9/10\n",
      "79900/79900 [==============================] - 8s - loss: 0.0936 - val_loss: 0.0948\n",
      "Epoch 10/10\n",
      "79900/79900 [==============================] - 8s - loss: 0.0945 - val_loss: 0.0964\n"
     ]
    },
    {
     "data": {
      "text/plain": [
       "<keras.callbacks.History at 0x7faaa1efc210>"
      ]
     },
     "execution_count": 135,
     "metadata": {},
     "output_type": "execute_result"
    }
   ],
   "source": [
    "nn.fit([trn.userId,trn.movieId],trn.rating,batch_size=128,nb_epoch=10,validation_data=([val.userId,val.movieId],val.rating))"
   ]
  },
  {
   "cell_type": "code",
   "execution_count": 136,
   "metadata": {},
   "outputs": [
    {
     "data": {
      "text/plain": [
       "array([[ 4.1529]], dtype=float32)"
      ]
     },
     "execution_count": 136,
     "metadata": {},
     "output_type": "execute_result"
    }
   ],
   "source": [
    "nn.predict([np.array([3]),np.array([6])])"
   ]
  },
  {
   "cell_type": "code",
   "execution_count": 139,
   "metadata": {},
   "outputs": [
    {
     "name": "stdout",
     "output_type": "stream",
     "text": [
      "____________________________________________________________________________________________________\n",
      "Layer (type)                     Output Shape          Param #     Connected to                     \n",
      "====================================================================================================\n",
      "user_in (InputLayer)             (None, 1)             0                                            \n",
      "____________________________________________________________________________________________________\n",
      "movie_in (InputLayer)            (None, 1)             0                                            \n",
      "____________________________________________________________________________________________________\n",
      "embedding_17 (Embedding)         (None, 1, 50)         33550       user_in[0][0]                    \n",
      "____________________________________________________________________________________________________\n",
      "embedding_18 (Embedding)         (None, 1, 50)         453300      movie_in[0][0]                   \n",
      "____________________________________________________________________________________________________\n",
      "merge_12 (Merge)                 (None, 1, 100)        0           embedding_17[0][0]               \n",
      "                                                                   embedding_18[0][0]               \n",
      "____________________________________________________________________________________________________\n",
      "flatten_12 (Flatten)             (None, 100)           0           merge_12[0][0]                   \n",
      "____________________________________________________________________________________________________\n",
      "dropout_3 (Dropout)              (None, 100)           0           flatten_12[0][0]                 \n",
      "____________________________________________________________________________________________________\n",
      "dense_3 (Dense)                  (None, 70)            7070        dropout_3[0][0]                  \n",
      "____________________________________________________________________________________________________\n",
      "dropout_4 (Dropout)              (None, 70)            0           dense_3[0][0]                    \n",
      "____________________________________________________________________________________________________\n",
      "dense_4 (Dense)                  (None, 1)             71          dropout_4[0][0]                  \n",
      "====================================================================================================\n",
      "Total params: 493,991\n",
      "Trainable params: 493,991\n",
      "Non-trainable params: 0\n",
      "____________________________________________________________________________________________________\n"
     ]
    }
   ],
   "source": [
    "nn.summary()"
   ]
  }
 ],
 "metadata": {
  "kernelspec": {
   "display_name": "Python 2",
   "language": "python",
   "name": "python2"
  },
  "language_info": {
   "codemirror_mode": {
    "name": "ipython",
    "version": 2
   },
   "file_extension": ".py",
   "mimetype": "text/x-python",
   "name": "python",
   "nbconvert_exporter": "python",
   "pygments_lexer": "ipython2",
   "version": "2.7.13"
  }
 },
 "nbformat": 4,
 "nbformat_minor": 2
}
